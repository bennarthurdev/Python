{
  "cells": [
    {
      "cell_type": "markdown",
      "metadata": {
        "id": "view-in-github",
        "colab_type": "text"
      },
      "source": [
        "<a href=\"https://colab.research.google.com/github/bennarthurdev/python/blob/main/ex04_pandas.ipynb\" target=\"_parent\"><img src=\"https://colab.research.google.com/assets/colab-badge.svg\" alt=\"Open In Colab\"/></a>"
      ]
    },
    {
      "cell_type": "markdown",
      "metadata": {
        "id": "mWBu3D4Da_bM"
      },
      "source": [
        "# Introdução à Ciência de Dados - UFPB\n",
        "Professor: Yuri Malheiros\n",
        "\n",
        "## Pandas"
      ]
    },
    {
      "cell_type": "markdown",
      "metadata": {
        "id": "-cF5oM46a_bO"
      },
      "source": [
        "A partir do dataset `movies.csv` utilize o Pandas para responder as perguntas:"
      ]
    },
    {
      "cell_type": "markdown",
      "metadata": {
        "id": "-ZYXSaJGa_bO"
      },
      "source": [
        "### Qual o gênero de filme com maior nota do IMDB? E o menor?"
      ]
    },
    {
      "cell_type": "code",
      "execution_count": 2,
      "metadata": {
        "colab": {
          "base_uri": "https://localhost:8080/",
          "height": 728
        },
        "id": "MdR_PgOla_bP",
        "outputId": "735ed17d-aa93-4f10-ed8c-50d4a802b5ae"
      },
      "outputs": [
        {
          "output_type": "execute_result",
          "data": {
            "text/plain": [
              "                           Title    US Gross  Worldwide Gross  US DVD Sales  \\\n",
              "0                 The Land Girls    146083.0         146083.0           NaN   \n",
              "1         First Love, Last Rites     10876.0          10876.0           NaN   \n",
              "2     I Married a Strange Person    203134.0         203134.0           NaN   \n",
              "3           Let's Talk About Sex    373615.0         373615.0           NaN   \n",
              "4                           Slam   1009819.0        1087521.0           NaN   \n",
              "...                          ...         ...              ...           ...   \n",
              "3196  Zack and Miri Make a Porno  31452765.0       36851125.0    21240321.0   \n",
              "3197                      Zodiac  33080084.0       83080084.0    20983030.0   \n",
              "3198                        Zoom  11989328.0       12506188.0     6679409.0   \n",
              "3199         The Legend of Zorro  45575336.0      141475336.0           NaN   \n",
              "3200           The Mask of Zorro  93828745.0      233700000.0           NaN   \n",
              "\n",
              "      Production Budget Release Date MPAA Rating  Running Time (min)  \\\n",
              "0             8000000.0    12-Jun-98           R                 NaN   \n",
              "1              300000.0     7-Aug-98           R                 NaN   \n",
              "2              250000.0    28-Aug-98         NaN                 NaN   \n",
              "3              300000.0    11-Sep-98         NaN                 NaN   \n",
              "4             1000000.0     9-Oct-98           R                 NaN   \n",
              "...                 ...          ...         ...                 ...   \n",
              "3196         24000000.0    31-Oct-08           R               101.0   \n",
              "3197         85000000.0     2-Mar-07           R               157.0   \n",
              "3198         35000000.0    11-Aug-06          PG                 NaN   \n",
              "3199         80000000.0    28-Oct-05          PG               129.0   \n",
              "3200         65000000.0    17-Jul-98       PG-13               136.0   \n",
              "\n",
              "             Distributor                        Source        Major Genre  \\\n",
              "0               Gramercy                           NaN                NaN   \n",
              "1                 Strand                           NaN              Drama   \n",
              "2              Lionsgate                           NaN             Comedy   \n",
              "3              Fine Line                           NaN             Comedy   \n",
              "4                Trimark           Original Screenplay              Drama   \n",
              "...                  ...                           ...                ...   \n",
              "3196       Weinstein Co.           Original Screenplay             Comedy   \n",
              "3197  Paramount Pictures     Based on Book/Short Story  Thriller/Suspense   \n",
              "3198       Sony Pictures  Based on Comic/Graphic Novel          Adventure   \n",
              "3199       Sony Pictures                        Remake          Adventure   \n",
              "3200       Sony Pictures                        Remake          Adventure   \n",
              "\n",
              "             Creative Type         Director  Rotten Tomatoes Rating  \\\n",
              "0                      NaN              NaN                     NaN   \n",
              "1                      NaN              NaN                     NaN   \n",
              "2                      NaN              NaN                     NaN   \n",
              "3                      NaN              NaN                    13.0   \n",
              "4     Contemporary Fiction              NaN                    62.0   \n",
              "...                    ...              ...                     ...   \n",
              "3196  Contemporary Fiction      Kevin Smith                    65.0   \n",
              "3197         Dramatization    David Fincher                    89.0   \n",
              "3198            Super Hero     Peter Hewitt                     3.0   \n",
              "3199    Historical Fiction  Martin Campbell                    26.0   \n",
              "3200    Historical Fiction  Martin Campbell                    82.0   \n",
              "\n",
              "      IMDB Rating  IMDB Votes  \n",
              "0             6.1      1071.0  \n",
              "1             6.9       207.0  \n",
              "2             6.8       865.0  \n",
              "3             NaN         NaN  \n",
              "4             3.4       165.0  \n",
              "...           ...         ...  \n",
              "3196          7.0     55687.0  \n",
              "3197          NaN         NaN  \n",
              "3198          3.4      7424.0  \n",
              "3199          5.7     21161.0  \n",
              "3200          6.7      4789.0  \n",
              "\n",
              "[3201 rows x 16 columns]"
            ],
            "text/html": [
              "\n",
              "  <div id=\"df-05534c32-0262-4d68-9d72-08f095a4f083\">\n",
              "    <div class=\"colab-df-container\">\n",
              "      <div>\n",
              "<style scoped>\n",
              "    .dataframe tbody tr th:only-of-type {\n",
              "        vertical-align: middle;\n",
              "    }\n",
              "\n",
              "    .dataframe tbody tr th {\n",
              "        vertical-align: top;\n",
              "    }\n",
              "\n",
              "    .dataframe thead th {\n",
              "        text-align: right;\n",
              "    }\n",
              "</style>\n",
              "<table border=\"1\" class=\"dataframe\">\n",
              "  <thead>\n",
              "    <tr style=\"text-align: right;\">\n",
              "      <th></th>\n",
              "      <th>Title</th>\n",
              "      <th>US Gross</th>\n",
              "      <th>Worldwide Gross</th>\n",
              "      <th>US DVD Sales</th>\n",
              "      <th>Production Budget</th>\n",
              "      <th>Release Date</th>\n",
              "      <th>MPAA Rating</th>\n",
              "      <th>Running Time (min)</th>\n",
              "      <th>Distributor</th>\n",
              "      <th>Source</th>\n",
              "      <th>Major Genre</th>\n",
              "      <th>Creative Type</th>\n",
              "      <th>Director</th>\n",
              "      <th>Rotten Tomatoes Rating</th>\n",
              "      <th>IMDB Rating</th>\n",
              "      <th>IMDB Votes</th>\n",
              "    </tr>\n",
              "  </thead>\n",
              "  <tbody>\n",
              "    <tr>\n",
              "      <th>0</th>\n",
              "      <td>The Land Girls</td>\n",
              "      <td>146083.0</td>\n",
              "      <td>146083.0</td>\n",
              "      <td>NaN</td>\n",
              "      <td>8000000.0</td>\n",
              "      <td>12-Jun-98</td>\n",
              "      <td>R</td>\n",
              "      <td>NaN</td>\n",
              "      <td>Gramercy</td>\n",
              "      <td>NaN</td>\n",
              "      <td>NaN</td>\n",
              "      <td>NaN</td>\n",
              "      <td>NaN</td>\n",
              "      <td>NaN</td>\n",
              "      <td>6.1</td>\n",
              "      <td>1071.0</td>\n",
              "    </tr>\n",
              "    <tr>\n",
              "      <th>1</th>\n",
              "      <td>First Love, Last Rites</td>\n",
              "      <td>10876.0</td>\n",
              "      <td>10876.0</td>\n",
              "      <td>NaN</td>\n",
              "      <td>300000.0</td>\n",
              "      <td>7-Aug-98</td>\n",
              "      <td>R</td>\n",
              "      <td>NaN</td>\n",
              "      <td>Strand</td>\n",
              "      <td>NaN</td>\n",
              "      <td>Drama</td>\n",
              "      <td>NaN</td>\n",
              "      <td>NaN</td>\n",
              "      <td>NaN</td>\n",
              "      <td>6.9</td>\n",
              "      <td>207.0</td>\n",
              "    </tr>\n",
              "    <tr>\n",
              "      <th>2</th>\n",
              "      <td>I Married a Strange Person</td>\n",
              "      <td>203134.0</td>\n",
              "      <td>203134.0</td>\n",
              "      <td>NaN</td>\n",
              "      <td>250000.0</td>\n",
              "      <td>28-Aug-98</td>\n",
              "      <td>NaN</td>\n",
              "      <td>NaN</td>\n",
              "      <td>Lionsgate</td>\n",
              "      <td>NaN</td>\n",
              "      <td>Comedy</td>\n",
              "      <td>NaN</td>\n",
              "      <td>NaN</td>\n",
              "      <td>NaN</td>\n",
              "      <td>6.8</td>\n",
              "      <td>865.0</td>\n",
              "    </tr>\n",
              "    <tr>\n",
              "      <th>3</th>\n",
              "      <td>Let's Talk About Sex</td>\n",
              "      <td>373615.0</td>\n",
              "      <td>373615.0</td>\n",
              "      <td>NaN</td>\n",
              "      <td>300000.0</td>\n",
              "      <td>11-Sep-98</td>\n",
              "      <td>NaN</td>\n",
              "      <td>NaN</td>\n",
              "      <td>Fine Line</td>\n",
              "      <td>NaN</td>\n",
              "      <td>Comedy</td>\n",
              "      <td>NaN</td>\n",
              "      <td>NaN</td>\n",
              "      <td>13.0</td>\n",
              "      <td>NaN</td>\n",
              "      <td>NaN</td>\n",
              "    </tr>\n",
              "    <tr>\n",
              "      <th>4</th>\n",
              "      <td>Slam</td>\n",
              "      <td>1009819.0</td>\n",
              "      <td>1087521.0</td>\n",
              "      <td>NaN</td>\n",
              "      <td>1000000.0</td>\n",
              "      <td>9-Oct-98</td>\n",
              "      <td>R</td>\n",
              "      <td>NaN</td>\n",
              "      <td>Trimark</td>\n",
              "      <td>Original Screenplay</td>\n",
              "      <td>Drama</td>\n",
              "      <td>Contemporary Fiction</td>\n",
              "      <td>NaN</td>\n",
              "      <td>62.0</td>\n",
              "      <td>3.4</td>\n",
              "      <td>165.0</td>\n",
              "    </tr>\n",
              "    <tr>\n",
              "      <th>...</th>\n",
              "      <td>...</td>\n",
              "      <td>...</td>\n",
              "      <td>...</td>\n",
              "      <td>...</td>\n",
              "      <td>...</td>\n",
              "      <td>...</td>\n",
              "      <td>...</td>\n",
              "      <td>...</td>\n",
              "      <td>...</td>\n",
              "      <td>...</td>\n",
              "      <td>...</td>\n",
              "      <td>...</td>\n",
              "      <td>...</td>\n",
              "      <td>...</td>\n",
              "      <td>...</td>\n",
              "      <td>...</td>\n",
              "    </tr>\n",
              "    <tr>\n",
              "      <th>3196</th>\n",
              "      <td>Zack and Miri Make a Porno</td>\n",
              "      <td>31452765.0</td>\n",
              "      <td>36851125.0</td>\n",
              "      <td>21240321.0</td>\n",
              "      <td>24000000.0</td>\n",
              "      <td>31-Oct-08</td>\n",
              "      <td>R</td>\n",
              "      <td>101.0</td>\n",
              "      <td>Weinstein Co.</td>\n",
              "      <td>Original Screenplay</td>\n",
              "      <td>Comedy</td>\n",
              "      <td>Contemporary Fiction</td>\n",
              "      <td>Kevin Smith</td>\n",
              "      <td>65.0</td>\n",
              "      <td>7.0</td>\n",
              "      <td>55687.0</td>\n",
              "    </tr>\n",
              "    <tr>\n",
              "      <th>3197</th>\n",
              "      <td>Zodiac</td>\n",
              "      <td>33080084.0</td>\n",
              "      <td>83080084.0</td>\n",
              "      <td>20983030.0</td>\n",
              "      <td>85000000.0</td>\n",
              "      <td>2-Mar-07</td>\n",
              "      <td>R</td>\n",
              "      <td>157.0</td>\n",
              "      <td>Paramount Pictures</td>\n",
              "      <td>Based on Book/Short Story</td>\n",
              "      <td>Thriller/Suspense</td>\n",
              "      <td>Dramatization</td>\n",
              "      <td>David Fincher</td>\n",
              "      <td>89.0</td>\n",
              "      <td>NaN</td>\n",
              "      <td>NaN</td>\n",
              "    </tr>\n",
              "    <tr>\n",
              "      <th>3198</th>\n",
              "      <td>Zoom</td>\n",
              "      <td>11989328.0</td>\n",
              "      <td>12506188.0</td>\n",
              "      <td>6679409.0</td>\n",
              "      <td>35000000.0</td>\n",
              "      <td>11-Aug-06</td>\n",
              "      <td>PG</td>\n",
              "      <td>NaN</td>\n",
              "      <td>Sony Pictures</td>\n",
              "      <td>Based on Comic/Graphic Novel</td>\n",
              "      <td>Adventure</td>\n",
              "      <td>Super Hero</td>\n",
              "      <td>Peter Hewitt</td>\n",
              "      <td>3.0</td>\n",
              "      <td>3.4</td>\n",
              "      <td>7424.0</td>\n",
              "    </tr>\n",
              "    <tr>\n",
              "      <th>3199</th>\n",
              "      <td>The Legend of Zorro</td>\n",
              "      <td>45575336.0</td>\n",
              "      <td>141475336.0</td>\n",
              "      <td>NaN</td>\n",
              "      <td>80000000.0</td>\n",
              "      <td>28-Oct-05</td>\n",
              "      <td>PG</td>\n",
              "      <td>129.0</td>\n",
              "      <td>Sony Pictures</td>\n",
              "      <td>Remake</td>\n",
              "      <td>Adventure</td>\n",
              "      <td>Historical Fiction</td>\n",
              "      <td>Martin Campbell</td>\n",
              "      <td>26.0</td>\n",
              "      <td>5.7</td>\n",
              "      <td>21161.0</td>\n",
              "    </tr>\n",
              "    <tr>\n",
              "      <th>3200</th>\n",
              "      <td>The Mask of Zorro</td>\n",
              "      <td>93828745.0</td>\n",
              "      <td>233700000.0</td>\n",
              "      <td>NaN</td>\n",
              "      <td>65000000.0</td>\n",
              "      <td>17-Jul-98</td>\n",
              "      <td>PG-13</td>\n",
              "      <td>136.0</td>\n",
              "      <td>Sony Pictures</td>\n",
              "      <td>Remake</td>\n",
              "      <td>Adventure</td>\n",
              "      <td>Historical Fiction</td>\n",
              "      <td>Martin Campbell</td>\n",
              "      <td>82.0</td>\n",
              "      <td>6.7</td>\n",
              "      <td>4789.0</td>\n",
              "    </tr>\n",
              "  </tbody>\n",
              "</table>\n",
              "<p>3201 rows × 16 columns</p>\n",
              "</div>\n",
              "      <button class=\"colab-df-convert\" onclick=\"convertToInteractive('df-05534c32-0262-4d68-9d72-08f095a4f083')\"\n",
              "              title=\"Convert this dataframe to an interactive table.\"\n",
              "              style=\"display:none;\">\n",
              "        \n",
              "  <svg xmlns=\"http://www.w3.org/2000/svg\" height=\"24px\"viewBox=\"0 0 24 24\"\n",
              "       width=\"24px\">\n",
              "    <path d=\"M0 0h24v24H0V0z\" fill=\"none\"/>\n",
              "    <path d=\"M18.56 5.44l.94 2.06.94-2.06 2.06-.94-2.06-.94-.94-2.06-.94 2.06-2.06.94zm-11 1L8.5 8.5l.94-2.06 2.06-.94-2.06-.94L8.5 2.5l-.94 2.06-2.06.94zm10 10l.94 2.06.94-2.06 2.06-.94-2.06-.94-.94-2.06-.94 2.06-2.06.94z\"/><path d=\"M17.41 7.96l-1.37-1.37c-.4-.4-.92-.59-1.43-.59-.52 0-1.04.2-1.43.59L10.3 9.45l-7.72 7.72c-.78.78-.78 2.05 0 2.83L4 21.41c.39.39.9.59 1.41.59.51 0 1.02-.2 1.41-.59l7.78-7.78 2.81-2.81c.8-.78.8-2.07 0-2.86zM5.41 20L4 18.59l7.72-7.72 1.47 1.35L5.41 20z\"/>\n",
              "  </svg>\n",
              "      </button>\n",
              "      \n",
              "  <style>\n",
              "    .colab-df-container {\n",
              "      display:flex;\n",
              "      flex-wrap:wrap;\n",
              "      gap: 12px;\n",
              "    }\n",
              "\n",
              "    .colab-df-convert {\n",
              "      background-color: #E8F0FE;\n",
              "      border: none;\n",
              "      border-radius: 50%;\n",
              "      cursor: pointer;\n",
              "      display: none;\n",
              "      fill: #1967D2;\n",
              "      height: 32px;\n",
              "      padding: 0 0 0 0;\n",
              "      width: 32px;\n",
              "    }\n",
              "\n",
              "    .colab-df-convert:hover {\n",
              "      background-color: #E2EBFA;\n",
              "      box-shadow: 0px 1px 2px rgba(60, 64, 67, 0.3), 0px 1px 3px 1px rgba(60, 64, 67, 0.15);\n",
              "      fill: #174EA6;\n",
              "    }\n",
              "\n",
              "    [theme=dark] .colab-df-convert {\n",
              "      background-color: #3B4455;\n",
              "      fill: #D2E3FC;\n",
              "    }\n",
              "\n",
              "    [theme=dark] .colab-df-convert:hover {\n",
              "      background-color: #434B5C;\n",
              "      box-shadow: 0px 1px 3px 1px rgba(0, 0, 0, 0.15);\n",
              "      filter: drop-shadow(0px 1px 2px rgba(0, 0, 0, 0.3));\n",
              "      fill: #FFFFFF;\n",
              "    }\n",
              "  </style>\n",
              "\n",
              "      <script>\n",
              "        const buttonEl =\n",
              "          document.querySelector('#df-05534c32-0262-4d68-9d72-08f095a4f083 button.colab-df-convert');\n",
              "        buttonEl.style.display =\n",
              "          google.colab.kernel.accessAllowed ? 'block' : 'none';\n",
              "\n",
              "        async function convertToInteractive(key) {\n",
              "          const element = document.querySelector('#df-05534c32-0262-4d68-9d72-08f095a4f083');\n",
              "          const dataTable =\n",
              "            await google.colab.kernel.invokeFunction('convertToInteractive',\n",
              "                                                     [key], {});\n",
              "          if (!dataTable) return;\n",
              "\n",
              "          const docLinkHtml = 'Like what you see? Visit the ' +\n",
              "            '<a target=\"_blank\" href=https://colab.research.google.com/notebooks/data_table.ipynb>data table notebook</a>'\n",
              "            + ' to learn more about interactive tables.';\n",
              "          element.innerHTML = '';\n",
              "          dataTable['output_type'] = 'display_data';\n",
              "          await google.colab.output.renderOutput(dataTable, element);\n",
              "          const docLink = document.createElement('div');\n",
              "          docLink.innerHTML = docLinkHtml;\n",
              "          element.appendChild(docLink);\n",
              "        }\n",
              "      </script>\n",
              "    </div>\n",
              "  </div>\n",
              "  "
            ]
          },
          "metadata": {},
          "execution_count": 2
        }
      ],
      "source": [
        "import pandas as pd\n",
        "#import dataset from github\n",
        "URL = \"https://github.com/yurimalheiros/icd/blob/master/datasets/movies.csv?raw=true\" \n",
        "#create dataframe\n",
        "df = pd.read_csv(URL)\n",
        "df"
      ]
    },
    {
      "cell_type": "code",
      "source": [
        "\n",
        "#pre-processamento\n",
        "'''\n",
        "  1.Eliminate NAN or NUll values in IMDB Rating\n",
        "  2.Eliminate NAN or NULL values in major genre\n",
        "'''\n",
        "df = df.dropna(subset = [\"IMDB Rating\"])\n",
        "df = df.dropna(subset = [\"Major Genre\"])\n",
        "df[\"Major Genre\"].values\n",
        "\n",
        "def defineGenres(array , types = list(),i = 0):\n",
        "  for x in array:\n",
        "    \n",
        "    if x in types:\n",
        "      pass\n",
        "\n",
        "    elif ( type(array[i]) == float ):\n",
        "      pass\n",
        "\n",
        "    else:\n",
        "      types.append(array[i])\n",
        "      \n",
        "    i += 1\n",
        "\n",
        "  return(types)\n",
        "    #verifica se esse tipo já existe in types\n",
        " \n",
        "tipos = defineGenres(df[\"Major Genre\"].values)\n",
        "\n",
        "tipos\n"
      ],
      "metadata": {
        "id": "jnljWwbidpwU",
        "outputId": "2bdb4e18-9746-402b-958a-56a48fff8714",
        "colab": {
          "base_uri": "https://localhost:8080/"
        }
      },
      "execution_count": 80,
      "outputs": [
        {
          "output_type": "execute_result",
          "data": {
            "text/plain": [
              "['Drama',\n",
              " 'Comedy',\n",
              " 'Musical',\n",
              " 'Thriller/Suspense',\n",
              " 'Action',\n",
              " 'Romantic Comedy',\n",
              " 'Adventure',\n",
              " 'Western',\n",
              " 'Horror',\n",
              " 'Documentary',\n",
              " 'Black Comedy',\n",
              " 'Concert/Performance']"
            ]
          },
          "metadata": {},
          "execution_count": 80
        }
      ]
    },
    {
      "cell_type": "code",
      "source": [
        "#Series with Major Genre can be acessed in this form\n",
        "genres = df['Major Genre']\n",
        "\n",
        "df[genres.values == tipos[0]]['IMDB Rating'].mean()\n",
        "\n",
        "means = list()\n",
        "for i in range(0, 12 , 1):\n",
        "  means.append((tipos[i] , df[genres.values == tipos[i]]['IMDB Rating'].mean()))\n",
        "  \n",
        "means = pd.DataFrame(means)\n",
        "means.max()\n",
        "#max = 0\n",
        "#for x,y in means:\n",
        " # if y >= max:\n",
        "  #  max = y\n",
        "   # max_label = x\n",
        "#print(f\"The max value is {x} with mean {y}\")\n"
      ],
      "metadata": {
        "id": "FLeSFAKdhf4M",
        "outputId": "933700a7-d203-42a2-bfb0-bdee4c5e3be4",
        "colab": {
          "base_uri": "https://localhost:8080/"
        }
      },
      "execution_count": 118,
      "outputs": [
        {
          "output_type": "execute_result",
          "data": {
            "text/plain": [
              "0     Western\n",
              "1    6.997297\n",
              "dtype: object"
            ]
          },
          "metadata": {},
          "execution_count": 118
        }
      ]
    },
    {
      "cell_type": "code",
      "source": [
        "#Series with notes can be acessed in this form\n",
        "mask = df['IMDB Rating']"
      ],
      "metadata": {
        "id": "tFBFzNa0d5Gl"
      },
      "execution_count": 5,
      "outputs": []
    },
    {
      "cell_type": "code",
      "source": [
        "#Series with major notes\n",
        "ordened_series = mask.sort_values(ascending=False)\n",
        "df['Major Genre'][ordened_series.index]"
      ],
      "metadata": {
        "id": "XVt96HIHeQI9",
        "outputId": "5d3e1ec0-92df-40ce-9591-358e51d3ff52",
        "colab": {
          "base_uri": "https://localhost:8080/"
        }
      },
      "execution_count": 12,
      "outputs": [
        {
          "output_type": "execute_result",
          "data": {
            "text/plain": [
              "841                 Drama\n",
              "369                   NaN\n",
              "2025    Thriller/Suspense\n",
              "366                   NaN\n",
              "675                   NaN\n",
              "              ...        \n",
              "3182                Drama\n",
              "3188                Drama\n",
              "3189            Adventure\n",
              "3192            Adventure\n",
              "3197    Thriller/Suspense\n",
              "Name: Major Genre, Length: 3201, dtype: object"
            ]
          },
          "metadata": {},
          "execution_count": 12
        }
      ]
    },
    {
      "cell_type": "code",
      "source": [],
      "metadata": {
        "id": "cym9juOTelBJ",
        "outputId": "1281463d-2927-4378-da02-40e5344eee7e",
        "colab": {
          "base_uri": "https://localhost:8080/"
        }
      },
      "execution_count": 8,
      "outputs": [
        {
          "output_type": "execute_result",
          "data": {
            "text/plain": [
              "0       6.1\n",
              "1       6.9\n",
              "2       6.8\n",
              "3       NaN\n",
              "4       3.4\n",
              "       ... \n",
              "3196    7.0\n",
              "3197    NaN\n",
              "3198    3.4\n",
              "3199    5.7\n",
              "3200    6.7\n",
              "Name: IMDB Rating, Length: 3201, dtype: float64"
            ]
          },
          "metadata": {},
          "execution_count": 8
        }
      ]
    },
    {
      "cell_type": "markdown",
      "metadata": {
        "id": "gud5DsXqa_bQ"
      },
      "source": [
        "### Qual o diretor dirigiu mais filmes de drama? E de comédia?"
      ]
    },
    {
      "cell_type": "code",
      "execution_count": null,
      "metadata": {
        "id": "B7YInWtIa_bQ"
      },
      "outputs": [],
      "source": [
        "# ADICIONE O SEU CÓDIGO AQUI"
      ]
    },
    {
      "cell_type": "markdown",
      "metadata": {
        "id": "PqTMkrXga_bR"
      },
      "source": [
        "### Quais filmes tiverem os maiores arrecadações (Gross) em relação ao orçamento de produção (Budget)?"
      ]
    },
    {
      "cell_type": "code",
      "execution_count": null,
      "metadata": {
        "id": "rkDrAlrya_bR"
      },
      "outputs": [],
      "source": [
        "# ADICIONE O SEU CÓDIGO AQUI"
      ]
    }
  ],
  "metadata": {
    "kernelspec": {
      "display_name": "icd",
      "language": "python",
      "name": "icd"
    },
    "language_info": {
      "codemirror_mode": {
        "name": "ipython",
        "version": 3
      },
      "file_extension": ".py",
      "mimetype": "text/x-python",
      "name": "python",
      "nbconvert_exporter": "python",
      "pygments_lexer": "ipython3",
      "version": "3.7.7"
    },
    "colab": {
      "provenance": [],
      "include_colab_link": true
    }
  },
  "nbformat": 4,
  "nbformat_minor": 0
}