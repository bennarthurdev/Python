{
  "cells": [
    {
      "cell_type": "markdown",
      "metadata": {
        "id": "view-in-github",
        "colab_type": "text"
      },
      "source": [
        "<a href=\"https://colab.research.google.com/github/bennarthurdev/python/blob/main/benn_arthur_souza_random.ipynb\" target=\"_parent\"><img src=\"https://colab.research.google.com/assets/colab-badge.svg\" alt=\"Open In Colab\"/></a>"
      ]
    },
    {
      "cell_type": "markdown",
      "metadata": {
        "id": "bb9QrZ5nnvTO"
      },
      "source": [
        "# Introdução à Ciência de Dados - UFPB\n",
        "Professor: Yuri Malheiros\n",
        "\n",
        "## Python - Random - Exercício"
      ]
    },
    {
      "cell_type": "markdown",
      "metadata": {
        "id": "nfAYXpfnnvTV"
      },
      "source": [
        "Implemente a função `generate_password` que deve gerar uma senha aleatória.\n",
        "\n",
        "A função tem quatro parâmetros:\n",
        "\n",
        "- `n_chars` especifica o tamanho da senha gerada.\n",
        "- `use_numbers` especifica se números podem ser usados na senha. Por padrão, esse parâmetro tem valor True.\n",
        "- `use_special_chars` especifica se caracteres especiais, por exemplo !#%&@?, pode ser usados na senha. Por padrão, esse parâmetro tem valor True.\n",
        "- `use_only_lowercase` especifica que só devem ser usadas letras minúsculas. Por padrão, esse parâmetro tem o valor False.\n",
        "\n",
        "Note que se `use_numbers` e `use_special_chars` tiverem valor False, a senha terá apenas letras."
      ]
    },
    {
      "cell_type": "code",
      "execution_count": null,
      "metadata": {
        "id": "qpY2tP26nvTW"
      },
      "outputs": [],
      "source": [
        "import random\n",
        "\n",
        "def generate_password(n_chars, use_numbers=True, use_special_chars=True, use_only_lowercase=False):\n",
        "\n",
        "    chars = {\n",
        "        'special_chars' : [chr(x) for x in range(33,48)] + [chr(y) for y in range(58, 64)] + [chr(z) for z in range(91,96)] + [chr(n) for n in range(123,127)],\n",
        "        'numbers' : [chr(x) for x in range(48,58)],\n",
        "        'upper_case_letters' : [chr(x) for x in range(65 , 91)],\n",
        "        'lower_case_letters' : [chr(x) for x in range(97 , 123 )]\n",
        "    }\n",
        "    \n",
        "    list1 = chars['lower_case_letters']\n",
        " \n",
        "    if use_numbers == True:\n",
        "      list1 += chars['numbers']\n",
        "    if use_special_chars == True:\n",
        "      list1 += chars['special_chars']\n",
        "    if use_only_lowercase == False:\n",
        "      list1 += chars['upper_case_letters']\n",
        "    #return list1\n",
        "    \n",
        "    return ''.join([random.choice(list1) for _ in range(n_chars+1)])"
      ]
    },
    {
      "cell_type": "markdown",
      "source": [],
      "metadata": {
        "id": "rOUIqjNTH7Ph"
      }
    },
    {
      "cell_type": "code",
      "source": [
        "generate_password(10 , True , False , False)"
      ],
      "metadata": {
        "colab": {
          "base_uri": "https://localhost:8080/",
          "height": 35
        },
        "id": "ZDBX8e837i7H",
        "outputId": "8fe4701b-b4eb-4c15-d8c9-882aa895c532"
      },
      "execution_count": null,
      "outputs": [
        {
          "output_type": "execute_result",
          "data": {
            "text/plain": [
              "'Qsk16g5hC95'"
            ],
            "application/vnd.google.colaboratory.intrinsic+json": {
              "type": "string"
            }
          },
          "metadata": {},
          "execution_count": 90
        }
      ]
    },
    {
      "cell_type": "code",
      "source": [],
      "metadata": {
        "id": "NDSwSx0CLNe9"
      },
      "execution_count": null,
      "outputs": []
    },
    {
      "cell_type": "code",
      "execution_count": null,
      "metadata": {
        "id": "gGeC96lZnvTZ",
        "colab": {
          "base_uri": "https://localhost:8080/"
        },
        "outputId": "cda7d90c-39df-4e0f-afcd-435bcb35bdc9"
      },
      "outputs": [
        {
          "output_type": "stream",
          "name": "stdout",
          "text": [
            ":d>9G&pE~v1\n",
            "%l-^{y;tt^f\n",
            "r*~Pa:+oc+S\n",
            "mAyXcRfiITh\n"
          ]
        }
      ],
      "source": [
        "# Exemplos de teste (você pode escrever outros, mas utilize pelo menos esses daqui)\n",
        "\n",
        "print(generate_password(10))\n",
        "print(generate_password(10, use_only_lowercase=True))\n",
        "print(generate_password(10, use_numbers=False))\n",
        "print(generate_password(10, use_numbers=False, use_special_chars=False))"
      ]
    }
  ],
  "metadata": {
    "kernelspec": {
      "display_name": "icd",
      "language": "python",
      "name": "icd"
    },
    "language_info": {
      "codemirror_mode": {
        "name": "ipython",
        "version": 3
      },
      "file_extension": ".py",
      "mimetype": "text/x-python",
      "name": "python",
      "nbconvert_exporter": "python",
      "pygments_lexer": "ipython3",
      "version": "3.7.7"
    },
    "colab": {
      "provenance": [],
      "collapsed_sections": [],
      "include_colab_link": true
    }
  },
  "nbformat": 4,
  "nbformat_minor": 0
}