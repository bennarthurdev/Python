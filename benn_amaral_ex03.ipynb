{
  "cells": [
    {
      "cell_type": "markdown",
      "metadata": {
        "id": "view-in-github",
        "colab_type": "text"
      },
      "source": [
        "<a href=\"https://colab.research.google.com/github/bennarthurdev/python/blob/main/benn_amaral_ex03.ipynb\" target=\"_parent\"><img src=\"https://colab.research.google.com/assets/colab-badge.svg\" alt=\"Open In Colab\"/></a>"
      ]
    },
    {
      "cell_type": "markdown",
      "metadata": {
        "id": "_RkZ0hL0-FLo"
      },
      "source": [
        "# Introdução à Ciência de Dados - UFPB\n",
        "Professor: Yuri Malheiros\n",
        "\n",
        "## NumPy"
      ]
    },
    {
      "cell_type": "markdown",
      "metadata": {
        "id": "On27tMKm-FLv"
      },
      "source": [
        "Implemente a função `distance` abaixo. Ela deve receber dois pontos e retornar a distância euclidiana entre eles. Cada ponto é representado por um array do NumPy, por exemplo, `p1 = np.array([2,4])` representa o ponto com coordenadas `x=2` e `y=4`."
      ]
    },
    {
      "cell_type": "code",
      "execution_count": 12,
      "metadata": {
        "id": "kENHope4-FLx"
      },
      "outputs": [],
      "source": [
        "import numpy as np\n",
        "from math import sqrt\n",
        "def distance(p1, p2):\n",
        "    \"\"\"\n",
        "    >>> distance(np.array([0,0]), np.array([1,1]))\n",
        "    1.4142135623730951\n",
        "    \n",
        "    >>> distance(np.array([1,2]), np.array([3,4]))\n",
        "    2.8284271247461903\n",
        "    \n",
        "    >>> distance(np.array([5,2]), np.array([-2,-1]))\n",
        "    7.615773105863909\n",
        "    \"\"\"\n",
        "    d = ((p1[0] - p2[0])**2) + ((p1[1] - p2[1])**2)\n",
        "    sqrt_d = sqrt(d)\n",
        "    return sqrt_d \n",
        "\n",
        "    # ADICIONE O SEU CÓDIGO AQUI"
      ]
    },
    {
      "cell_type": "code",
      "source": [],
      "metadata": {
        "colab": {
          "base_uri": "https://localhost:8080/"
        },
        "id": "hjRay8J8-t-1",
        "outputId": "cafc8699-7782-4e0f-ce5b-20d356f0f2ff"
      },
      "execution_count": 10,
      "outputs": [
        {
          "output_type": "stream",
          "name": "stdout",
          "text": [
            "<class 'numpy.ndarray'>\n",
            "float64\n",
            "[[2 4]]\n"
          ]
        }
      ]
    },
    {
      "cell_type": "markdown",
      "metadata": {
        "id": "30rfRmKt-FL1"
      },
      "source": [
        "Implemente a função `n_distances` abaixo. Ela recebe um ponto (`p1`), como um array do NumPy, e uma lista de pontos (`points`), uma matriz do NumPy, onde cada linha representa um ponto.\n",
        "\n",
        "Esta função deve retornar a distância de `p1` para todos os pontos da matriz `points`. O retorno também é uma matriz, onde cada linha tem a distância de `p1` para o ponto daquela linha."
      ]
    },
    {
      "cell_type": "code",
      "execution_count": 44,
      "metadata": {
        "id": "olIOUdKm-FL2",
        "colab": {
          "base_uri": "https://localhost:8080/"
        },
        "outputId": "dcff1c85-cc68-412a-c438-8b04a064e60f"
      },
      "outputs": [
        {
          "output_type": "execute_result",
          "data": {
            "text/plain": [
              "array([3.60555128, 1.41421356, 4.        , 9.05538514, 7.61577311])"
            ]
          },
          "metadata": {},
          "execution_count": 44
        }
      ],
      "source": [
        "import math\n",
        "def n_distances(p1, points):\n",
        "    \"\"\"\n",
        "    >>> n_distances(np.array([0,0]), np.array([[1,1]]))\n",
        "    array([1.41421356])\n",
        "    \n",
        "    >>> n_distances(np.array([0,0]), np.array([[1,1], [2,2]]))\n",
        "    array([1.41421356, 2.82842712])\n",
        "    \n",
        "    >>> n_distances(np.array([1,2]), np.array([[3,-1], [2,1], [5, 2], [10, 1], [-2, -5]]))\n",
        "    array([3.60555128, 1.41421356, 4.        , 9.05538514, 7.61577311])\n",
        "    \"\"\"\n",
        "    x = p1[0] - points[: , 0]\n",
        "    y = p1[1] - points[: , 1]\n",
        "    d_euclidian = (x**2 + y**2)**(1/2)\n",
        "    return d_euclidian\n",
        "\n",
        "    "
      ]
    },
    {
      "cell_type": "markdown",
      "metadata": {
        "id": "NLShFPRP-FL4"
      },
      "source": [
        "## Teste"
      ]
    },
    {
      "cell_type": "code",
      "execution_count": 45,
      "metadata": {
        "id": "E03ghYjC-FL5",
        "colab": {
          "base_uri": "https://localhost:8080/"
        },
        "outputId": "930a84fe-8c2c-41b8-ee7a-c391491586fb"
      },
      "outputs": [
        {
          "output_type": "stream",
          "name": "stdout",
          "text": [
            "Trying:\n",
            "    distance(np.array([0,0]), np.array([1,1]))\n",
            "Expecting:\n",
            "    1.4142135623730951\n",
            "ok\n",
            "Trying:\n",
            "    distance(np.array([1,2]), np.array([3,4]))\n",
            "Expecting:\n",
            "    2.8284271247461903\n",
            "ok\n",
            "Trying:\n",
            "    distance(np.array([5,2]), np.array([-2,-1]))\n",
            "Expecting:\n",
            "    7.615773105863909\n",
            "ok\n",
            "Trying:\n",
            "    n_distances(np.array([0,0]), np.array([[1,1]]))\n",
            "Expecting:\n",
            "    array([1.41421356])\n",
            "ok\n",
            "Trying:\n",
            "    n_distances(np.array([0,0]), np.array([[1,1], [2,2]]))\n",
            "Expecting:\n",
            "    array([1.41421356, 2.82842712])\n",
            "ok\n",
            "Trying:\n",
            "    n_distances(np.array([1,2]), np.array([[3,-1], [2,1], [5, 2], [10, 1], [-2, -5]]))\n",
            "Expecting:\n",
            "    array([3.60555128, 1.41421356, 4.        , 9.05538514, 7.61577311])\n",
            "ok\n",
            "1 items had no tests:\n",
            "    __main__\n",
            "2 items passed all tests:\n",
            "   3 tests in __main__.distance\n",
            "   3 tests in __main__.n_distances\n",
            "6 tests in 3 items.\n",
            "6 passed and 0 failed.\n",
            "Test passed.\n"
          ]
        },
        {
          "output_type": "execute_result",
          "data": {
            "text/plain": [
              "TestResults(failed=0, attempted=6)"
            ]
          },
          "metadata": {},
          "execution_count": 45
        }
      ],
      "source": [
        "import doctest\n",
        "\n",
        "doctest.testmod(verbose=True)"
      ]
    },
    {
      "cell_type": "markdown",
      "source": [
        "# Nova seção"
      ],
      "metadata": {
        "id": "XQl1jTwHD9-1"
      }
    },
    {
      "cell_type": "markdown",
      "source": [
        "## Estudo"
      ],
      "metadata": {
        "id": "zF4LplrnDmEs"
      }
    },
    {
      "cell_type": "markdown",
      "source": [
        "### Intro"
      ],
      "metadata": {
        "id": "KH9R6lH-Dp-s"
      }
    },
    {
      "cell_type": "code",
      "source": [
        "import numpy as np"
      ],
      "metadata": {
        "id": "E38XPQJCDpSf"
      },
      "execution_count": null,
      "outputs": []
    },
    {
      "cell_type": "code",
      "source": [
        "arr = np.array([[1,2,3] , [4,5,6]]) #create a numpy.ndarray object\n",
        "type(arr)"
      ],
      "metadata": {
        "colab": {
          "base_uri": "https://localhost:8080/"
        },
        "id": "vqhdLfVrEMtE",
        "outputId": "a2c895c5-89b3-4834-e03c-76cbdaa8f091"
      },
      "execution_count": null,
      "outputs": [
        {
          "output_type": "execute_result",
          "data": {
            "text/plain": [
              "numpy.ndarray"
            ]
          },
          "metadata": {},
          "execution_count": 9
        }
      ]
    },
    {
      "cell_type": "code",
      "source": [
        "arr.shape ##Returns a tuple that shows the number of elements along each"
      ],
      "metadata": {
        "colab": {
          "base_uri": "https://localhost:8080/"
        },
        "id": "by4ts22FEwvs",
        "outputId": "a400637f-8209-4d54-86ea-7ccfcc805e19"
      },
      "execution_count": null,
      "outputs": [
        {
          "output_type": "execute_result",
          "data": {
            "text/plain": [
              "(2, 3)"
            ]
          },
          "metadata": {},
          "execution_count": 10
        }
      ]
    },
    {
      "cell_type": "code",
      "source": [
        "arr.dtype ## In numpy all the data has to be of the same type and integers and floats are represented by 64-bits"
      ],
      "metadata": {
        "colab": {
          "base_uri": "https://localhost:8080/"
        },
        "id": "6UEJnrGkEyHE",
        "outputId": "6dabd2db-aa85-4123-c621-4695b6d794b9"
      },
      "execution_count": null,
      "outputs": [
        {
          "output_type": "execute_result",
          "data": {
            "text/plain": [
              "dtype('int64')"
            ]
          },
          "metadata": {},
          "execution_count": 11
        }
      ]
    },
    {
      "cell_type": "markdown",
      "source": [
        "## Aritmetics"
      ],
      "metadata": {
        "id": "aMjOS2cnFMkB"
      }
    },
    {
      "cell_type": "code",
      "source": [
        "arr_2 = np.array([[5,6,7] , [8,9,10]])\n",
        "# Sum between two ndarrays\n",
        "arr + arr_2"
      ],
      "metadata": {
        "colab": {
          "base_uri": "https://localhost:8080/"
        },
        "id": "pcH8IJUBFQbE",
        "outputId": "d98424ef-67b8-4bb6-a9f1-09ac9985742e"
      },
      "execution_count": null,
      "outputs": [
        {
          "output_type": "execute_result",
          "data": {
            "text/plain": [
              "array([[ 6,  8, 10],\n",
              "       [12, 14, 16]])"
            ]
          },
          "metadata": {},
          "execution_count": 12
        }
      ]
    },
    {
      "cell_type": "code",
      "source": [
        "arr * arr_2"
      ],
      "metadata": {
        "colab": {
          "base_uri": "https://localhost:8080/"
        },
        "id": "4j0AL5jqFg2D",
        "outputId": "ca8d862f-0d0d-409c-c8a4-4101d4d5503f"
      },
      "execution_count": null,
      "outputs": [
        {
          "output_type": "execute_result",
          "data": {
            "text/plain": [
              "array([[ 5, 12, 21],\n",
              "       [32, 45, 60]])"
            ]
          },
          "metadata": {},
          "execution_count": 13
        }
      ]
    },
    {
      "cell_type": "code",
      "source": [
        "result = arr / arr_2\n",
        "np.around(result , 4) # ndarray object, number of decimal values,  "
      ],
      "metadata": {
        "colab": {
          "base_uri": "https://localhost:8080/"
        },
        "id": "Ax07SHG3Fjo0",
        "outputId": "1e948ad9-ad33-4fab-adc9-ce48a35b321a"
      },
      "execution_count": null,
      "outputs": [
        {
          "output_type": "execute_result",
          "data": {
            "text/plain": [
              "array([[0.2   , 0.3333, 0.4286],\n",
              "       [0.5   , 0.5556, 0.6   ]])"
            ]
          },
          "metadata": {},
          "execution_count": 20
        }
      ]
    },
    {
      "cell_type": "code",
      "source": [
        "arr ** arr_2"
      ],
      "metadata": {
        "colab": {
          "base_uri": "https://localhost:8080/"
        },
        "id": "ac4gCA7gGU3W",
        "outputId": "19f902f7-aea4-4808-ed66-d1dc566a6092"
      },
      "execution_count": null,
      "outputs": [
        {
          "output_type": "execute_result",
          "data": {
            "text/plain": [
              "array([[       1,       64,     2187],\n",
              "       [   65536,  1953125, 60466176]])"
            ]
          },
          "metadata": {},
          "execution_count": 21
        }
      ]
    },
    {
      "cell_type": "markdown",
      "source": [
        "## Universal Funcs"
      ],
      "metadata": {
        "id": "z1DeWKxkGZNi"
      }
    },
    {
      "cell_type": "code",
      "source": [
        "# Mathematical functions can be abstracted by using numpy, for example, if we need to know the sin of all elements in an array\n",
        "# So we can use \n",
        "np.sin(arr)"
      ],
      "metadata": {
        "colab": {
          "base_uri": "https://localhost:8080/"
        },
        "id": "VclLPrSRGebr",
        "outputId": "15689416-63b4-49d9-b06f-397c7fa2e965"
      },
      "execution_count": null,
      "outputs": [
        {
          "output_type": "execute_result",
          "data": {
            "text/plain": [
              "array([[ 0.84147098,  0.90929743,  0.14112001],\n",
              "       [-0.7568025 , -0.95892427, -0.2794155 ]])"
            ]
          },
          "metadata": {},
          "execution_count": 23
        }
      ]
    },
    {
      "cell_type": "code",
      "source": [
        "np.sin(arr_2)"
      ],
      "metadata": {
        "id": "08aBuhS4G5oO",
        "outputId": "f16fb04a-5890-45bc-b36e-80d5c95319d3",
        "colab": {
          "base_uri": "https://localhost:8080/"
        }
      },
      "execution_count": null,
      "outputs": [
        {
          "output_type": "execute_result",
          "data": {
            "text/plain": [
              "array([[-0.95892427, -0.2794155 ,  0.6569866 ],\n",
              "       [ 0.98935825,  0.41211849, -0.54402111]])"
            ]
          },
          "metadata": {},
          "execution_count": 24
        }
      ]
    }
  ],
  "metadata": {
    "kernelspec": {
      "display_name": "Python 3",
      "name": "python3"
    },
    "language_info": {
      "name": "python"
    },
    "colab": {
      "provenance": [],
      "toc_visible": true,
      "collapsed_sections": [],
      "include_colab_link": true
    }
  },
  "nbformat": 4,
  "nbformat_minor": 0
}