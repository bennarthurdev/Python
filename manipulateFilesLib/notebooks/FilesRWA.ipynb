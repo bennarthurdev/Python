{
 "cells": [
  {
   "cell_type": "markdown",
   "id": "9c749dcf",
   "metadata": {},
   "source": [
    "## Reading Files"
   ]
  },
  {
   "cell_type": "markdown",
   "id": "55d5573d",
   "metadata": {},
   "source": [
    "### create a file and add any text"
   ]
  },
  {
   "cell_type": "markdown",
   "id": "7b79ebc4",
   "metadata": {},
   "source": [
    "#### The first argument should be the path the relative path to the directory where the file that should be read is located"
   ]
  },
  {
   "cell_type": "code",
   "execution_count": null,
   "id": "b2e1fc42",
   "metadata": {},
   "outputs": [],
   "source": [
    "file = open(\"files/text.txt\" , \"r\") "
   ]
  },
  {
   "cell_type": "code",
   "execution_count": 26,
   "id": "1a31154a",
   "metadata": {},
   "outputs": [
    {
     "name": "stdout",
     "output_type": "stream",
     "text": [
      "Aqui esta um exemplo de texto\n"
     ]
    }
   ],
   "source": [
    "print(file.read())"
   ]
  },
  {
   "cell_type": "code",
   "execution_count": 27,
   "id": "2a1de4ba",
   "metadata": {},
   "outputs": [
    {
     "data": {
      "text/plain": [
       "29"
      ]
     },
     "execution_count": 27,
     "metadata": {},
     "output_type": "execute_result"
    }
   ],
   "source": [
    "file.tell()"
   ]
  },
  {
   "cell_type": "code",
   "execution_count": 28,
   "id": "02fc20e8",
   "metadata": {},
   "outputs": [
    {
     "data": {
      "text/plain": [
       "0"
      ]
     },
     "execution_count": 28,
     "metadata": {},
     "output_type": "execute_result"
    }
   ],
   "source": [
    "file.seek(0,0)#Return the cursor to the beginning of the file"
   ]
  },
  {
   "cell_type": "code",
   "execution_count": 29,
   "id": "799d9826",
   "metadata": {},
   "outputs": [
    {
     "data": {
      "text/plain": [
       "'Aqui esta'"
      ]
     },
     "execution_count": 29,
     "metadata": {},
     "output_type": "execute_result"
    }
   ],
   "source": [
    "file.read(9)"
   ]
  },
  {
   "cell_type": "markdown",
   "id": "e96af150",
   "metadata": {},
   "source": [
    "## Write Mode"
   ]
  },
  {
   "cell_type": "code",
   "execution_count": 30,
   "id": "d0aae676",
   "metadata": {},
   "outputs": [],
   "source": [
    "fileWriteMode = open(\"files/text.txt\" , \"w\")"
   ]
  },
  {
   "cell_type": "code",
   "execution_count": 31,
   "id": "6ea4a3fe",
   "metadata": {},
   "outputs": [
    {
     "data": {
      "text/plain": [
       "33"
      ]
     },
     "execution_count": 31,
     "metadata": {},
     "output_type": "execute_result"
    }
   ],
   "source": [
    "fileWriteMode.write(\"Texto que sobrescreve o anterior!\")"
   ]
  },
  {
   "cell_type": "code",
   "execution_count": 32,
   "id": "bc133be5",
   "metadata": {},
   "outputs": [],
   "source": [
    "fileWriteMode.close()"
   ]
  },
  {
   "cell_type": "code",
   "execution_count": 34,
   "id": "99285011",
   "metadata": {},
   "outputs": [],
   "source": [
    "newFileObject = open(\"files/text.txt\" , \"r\")"
   ]
  },
  {
   "cell_type": "code",
   "execution_count": 35,
   "id": "36360751",
   "metadata": {},
   "outputs": [
    {
     "data": {
      "text/plain": [
       "'Texto que sobrescreve o anterior!'"
      ]
     },
     "execution_count": 35,
     "metadata": {},
     "output_type": "execute_result"
    }
   ],
   "source": [
    "newFileObject.read()"
   ]
  },
  {
   "cell_type": "markdown",
   "id": "5dbd3b5e",
   "metadata": {},
   "source": [
    "## \"A\" mode\n"
   ]
  },
  {
   "cell_type": "code",
   "execution_count": 1,
   "id": "bf873665",
   "metadata": {},
   "outputs": [],
   "source": [
    "fileAppendMode = open(\"files/text.txt\" , \"a\")# the cursor will be in the last index "
   ]
  },
  {
   "cell_type": "code",
   "execution_count": 2,
   "id": "6026f1a5",
   "metadata": {},
   "outputs": [
    {
     "data": {
      "text/plain": [
       "44"
      ]
     },
     "execution_count": 2,
     "metadata": {},
     "output_type": "execute_result"
    }
   ],
   "source": [
    "fileAppendMode.write(\"\\nAqui está uma nova linha para esse arquivo!\")#Adds this string to the last position with a line break"
   ]
  },
  {
   "cell_type": "code",
   "execution_count": 6,
   "id": "3f43b9bf",
   "metadata": {},
   "outputs": [],
   "source": [
    "fileAppendMode.close()\n"
   ]
  },
  {
   "cell_type": "code",
   "execution_count": 4,
   "id": "79f10df8",
   "metadata": {},
   "outputs": [],
   "source": [
    "fileReadMode = open(\"files/text.txt\" , \"r\")#create new object to read this changes"
   ]
  },
  {
   "cell_type": "code",
   "execution_count": 5,
   "id": "4fab0ce4",
   "metadata": {},
   "outputs": [
    {
     "name": "stdout",
     "output_type": "stream",
     "text": [
      "Texto que sobrescreve o anterior!\n",
      "Aqui está uma nova linha para esse arquivo!\n"
     ]
    }
   ],
   "source": [
    "print(fileReadMode.read())"
   ]
  },
  {
   "cell_type": "markdown",
   "id": "162dc45b",
   "metadata": {},
   "source": [
    "## Reading and generating files from user input"
   ]
  },
  {
   "cell_type": "code",
   "execution_count": 16,
   "id": "81cef659",
   "metadata": {},
   "outputs": [
    {
     "name": "stdout",
     "output_type": "stream",
     "text": [
      "Enter the file name: user\n"
     ]
    }
   ],
   "source": [
    "fileName = input(\"Enter the file name: \")"
   ]
  },
  {
   "cell_type": "code",
   "execution_count": 18,
   "id": "7983a67e",
   "metadata": {},
   "outputs": [],
   "source": [
    "fileRelativePath = \"files/\" + fileName + \".txt\" "
   ]
  },
  {
   "cell_type": "code",
   "execution_count": 19,
   "id": "e883af53",
   "metadata": {},
   "outputs": [],
   "source": [
    "fileObject = open(fileRelativePath , \"w\") #Creates a file object in write mode"
   ]
  },
  {
   "cell_type": "code",
   "execution_count": 20,
   "id": "6d16addd",
   "metadata": {},
   "outputs": [
    {
     "data": {
      "text/plain": [
       "70"
      ]
     },
     "execution_count": 20,
     "metadata": {},
     "output_type": "execute_result"
    }
   ],
   "source": [
    "fileObject.write(\"The user-selected file has been successfully created and overscripted!\")"
   ]
  },
  {
   "cell_type": "code",
   "execution_count": 21,
   "id": "503f2f44",
   "metadata": {},
   "outputs": [],
   "source": [
    "fileObject.close()"
   ]
  },
  {
   "cell_type": "code",
   "execution_count": 22,
   "id": "a70ddafe",
   "metadata": {},
   "outputs": [],
   "source": [
    "fileObjectReading = open(fileRelativePath , \"r\") #Creates a file object in read mode"
   ]
  },
  {
   "cell_type": "code",
   "execution_count": 23,
   "id": "1a4dd740",
   "metadata": {},
   "outputs": [
    {
     "data": {
      "text/plain": [
       "'The user-selected file has been successfully created and overscripted!'"
      ]
     },
     "execution_count": 23,
     "metadata": {},
     "output_type": "execute_result"
    }
   ],
   "source": [
    "fileObjectReading.read()"
   ]
  },
  {
   "cell_type": "code",
   "execution_count": 24,
   "id": "cdda9c03",
   "metadata": {},
   "outputs": [],
   "source": [
    "fileObjectReading.close()"
   ]
  },
  {
   "cell_type": "markdown",
   "id": "4053a59a",
   "metadata": {},
   "source": [
    "## Reading CSV files"
   ]
  },
  {
   "cell_type": "code",
   "execution_count": null,
   "id": "74b10f5a",
   "metadata": {},
   "outputs": [],
   "source": [
    "file = open(\"files/salaries.csv\") ##"
   ]
  }
 ],
 "metadata": {
  "kernelspec": {
   "display_name": "Python 3 (ipykernel)",
   "language": "python",
   "name": "python3"
  },
  "language_info": {
   "codemirror_mode": {
    "name": "ipython",
    "version": 3
   },
   "file_extension": ".py",
   "mimetype": "text/x-python",
   "name": "python",
   "nbconvert_exporter": "python",
   "pygments_lexer": "ipython3",
   "version": "3.10.5"
  }
 },
 "nbformat": 4,
 "nbformat_minor": 5
}
